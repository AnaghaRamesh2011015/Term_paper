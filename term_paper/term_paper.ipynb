{
 "cells": [
  {
   "cell_type": "code",
   "execution_count": 2,
   "metadata": {},
   "outputs": [],
   "source": [
    "import numpy as np\n",
    "import pandas as pd\n",
    "from scipy.optimize import curve_fit, least_squares\n",
    "import matplotlib.pyplot as plt\n",
    "from scipy.special import kn, iv\n",
    "from scipy.integrate import quad\n",
    "from scipy.integrate import tplquad"
   ]
  },
  {
   "cell_type": "code",
   "execution_count": 12,
   "metadata": {},
   "outputs": [
    {
     "name": "stdout",
     "output_type": "stream",
     "text": [
      "(40,)\n",
      "(40,)\n"
     ]
    }
   ],
   "source": [
    "# Read the CSV file and extract data from the first column, skipping the first row\n",
    "data = pd.read_csv(\"D:/ACADEMICS/Coding/Comp Phy/term_paper/pion_data.csv\", usecols=[0,3], skiprows=[0])\n",
    "lim_length = 40\n",
    "# Convert the extracted data to a list\n",
    "data_list = data.values.tolist()\n",
    "data_list = np.array(data_list)\n",
    "pT = np.array(data_list)[:,0].flatten()\n",
    "nine = np.array(data_list)[:,1].flatten()\n",
    "\n",
    "# changing dtype of pT to float\n",
    "pT = pT[:lim_length].astype(float)\n",
    "nine = nine[:lim_length].astype(float)\n",
    "\n",
    "print(pT.shape)\n",
    "print(nine.shape)\n",
    "#print(pT)"
   ]
  },
  {
   "cell_type": "code",
   "execution_count": 13,
   "metadata": {},
   "outputs": [],
   "source": [
    "#defining the bgbw\n",
    "def boltzmann_gibbs_blast_wave(p_T, m, T, beta_s, R, n, norm):\n",
    "    #defining the function integration\n",
    "    def integrand(r, p_T, m_t, T, beta_s, n):\n",
    "        '''\n",
    "        input parameters\n",
    "        - r : radial distance\n",
    "        - p_T : transverse momentum array\n",
    "        - m_t : transverse mass\n",
    "        - T : temperature\n",
    "        - beta_s : surface flow velocity\n",
    "        - n : profile shape\n",
    "        '''\n",
    "        # transverse radial flow velocity\n",
    "        beta = beta_s * (r / R) ** n\n",
    "        #finding flow profile\n",
    "        rho = np.arctanh(beta)\n",
    "        #argument for modified bessel's function of 0th order\n",
    "        arg1 = p_T * np.sinh(rho) / T\n",
    "        #argument for modified bessel's function of 1st order\n",
    "        arg2 = m_t * np.cosh(rho) / T\n",
    "        return r * kn(1, arg2) * iv(0, arg1)\n",
    "    #integrating to find transverse momenta\n",
    "    dN_dpT = np.zeros_like(p_T)\n",
    "    for i,p in enumerate(p_T):\n",
    "        m_t = np.sqrt(m**2 + p**2)\n",
    "        result, _ = quad(integrand, 0, R, args=(p, m_t, T, beta_s, n))\n",
    "        dN_dpT[i] = result * m_t * norm\n",
    "    return dN_dpT\n"
   ]
  },
  {
   "cell_type": "code",
   "execution_count": 14,
   "metadata": {},
   "outputs": [],
   "source": [
    "#defining tbw\n",
    "def tsallis_blast_wave(p_T, Y,  m, T, q, R, beta_s, n, norm):\n",
    "\n",
    "    def integrand(r, phi, y, p_T, m_T, T, q, beta_s, n):\n",
    "        # rho = np.arctanh(beta_s * ((r / R) ** n)) # radial beta\n",
    "        rho = np.arctanh(beta_s * (1 + 1/(n + 1))) # average beta\n",
    "\n",
    "        weight_factor = 1 + (((m_T * np.cosh(y) * np.cosh(rho)) - (p_T * np.sinh(rho) * np.cos(phi)))*((q - 1) / T))\n",
    "        weight_factor = weight_factor ** (-1 / (q - 1))\n",
    "        weight_factor = weight_factor * r * np.cosh(y)\n",
    "        return weight_factor\n",
    "    \n",
    "    dN_dpT = np.zeros_like(p_T)\n",
    "    for i,p in enumerate(p_T):\n",
    "        m_T = np.sqrt(m**2 + p**2)\n",
    "        #print(m_T)\n",
    "        result, _ = tplquad(integrand, -Y, Y, -np.pi, np.pi, 0, R, args=(p, m_T, T, q, beta_s, n))\n",
    "        # print(f'{result:.100f}')\n",
    "        dN_dpT[i] = result * m_T  * norm\n",
    "\n",
    "    return dN_dpT"
   ]
  },
  {
   "cell_type": "code",
   "execution_count": 15,
   "metadata": {},
   "outputs": [],
   "source": [
    "m_0_pi = 0.13957\n",
    "T_0 = 1.2676e-1\n",
    "beta_s_0 = 4.387e-1\n",
    "beta = 4.387e-1\n",
    "n_0_bg = 0.5\n",
    "R_0 = 0.01 #update\n",
    "q_0 = 1.060\n",
    "Y_0 = 0.5\n",
    "n_0_ts = 1\n",
    "norm_bg = 1e6\n",
    "norm_ts = 1e6\n",
    "\n",
    "\n",
    "#dN_dpT_bg = boltzmann_gibbs_blast_wave(pT, m_0, T_0, beta_s_0, R_0, n_0_bg, norm_bg)\n",
    "#dN_dpT_ts = tsallis_blast_wave(pT, Y_0,  m_0, T_0, q_0, R_0, beta, n_0_ts, norm_ts)"
   ]
  },
  {
   "cell_type": "code",
   "execution_count": 16,
   "metadata": {},
   "outputs": [
    {
     "name": "stdout",
     "output_type": "stream",
     "text": [
      "fitting the data to the boltzmann gibbs blast wave model\n",
      "   Iteration     Total nfev        Cost      Cost reduction    Step norm     Optimality   \n",
      "       0              1         1.9344e+02                                    8.70e+05    \n",
      "       1              2         7.5081e+01      1.18e+02       2.90e+06       8.60e+02    \n",
      "       2              3         6.0226e+00      6.91e+01       2.45e+05       9.59e+01    \n",
      "       3              4         2.1345e+00      3.89e+00       1.40e+05       2.11e+04    \n",
      "       4              5         2.0044e+00      1.30e-01       4.81e+05       4.35e+04    \n",
      "       5             10         1.8966e+00      1.08e-01       2.52e+00       5.31e+04    \n",
      "       6             11         1.5506e+00      3.46e-01       4.61e-01       1.79e+04    \n",
      "       7             12         1.5450e+00      5.68e-03       4.87e-01       5.60e+04    \n",
      "       8             13         1.2274e+00      3.18e-01       1.96e-02       7.39e+01    \n",
      "`xtol` termination condition is satisfied.\n",
      "Function evaluations 13, initial cost 1.9344e+02, final cost 1.2274e+00, first-order optimality 7.39e+01.\n",
      "fitting the data to the tsallis blast wave model\n",
      "   Iteration     Total nfev        Cost      Cost reduction    Step norm     Optimality   \n",
      "       0              1         1.5730e+01                                    3.00e+02    \n",
      "       1              2         7.2295e-01      1.50e+01       5.38e+04       2.07e+01    \n",
      "       2              3         4.6232e-01      2.61e-01       8.32e+03       3.18e+03    \n",
      "       3              8         4.5037e-01      1.19e-02       1.20e-01       5.27e+04    \n",
      "       4              9         4.0518e-01      4.52e-02       1.46e+00       4.61e+04    \n",
      "       5             10         3.8372e-01      2.15e-02       5.31e+00       7.36e+04    \n",
      "       6             11         3.1507e-01      6.87e-02       3.05e+02       1.55e+04    \n",
      "       7             12         3.0163e-01      1.34e-02       2.99e+03       1.89e+04    \n",
      "       8             13         2.8442e-01      1.72e-02       3.37e+03       2.40e+03    \n",
      "       9             14         2.8172e-01      2.70e-03       1.63e+00       1.38e+04    \n",
      "      10             15         2.7409e-01      7.63e-03       3.99e+03       1.00e+03    \n",
      "The maximum number of function evaluations is exceeded.\n",
      "Function evaluations 15, initial cost 1.5730e+01, final cost 2.7409e-01, first-order optimality 1.00e+03.\n"
     ]
    }
   ],
   "source": [
    "### ---------- fitting the data to the models ---------- ###\n",
    "\n",
    "# parameter bounds for boltzmann gibbs blast wave model\n",
    "mass_bounds_bg = (m_0_pi, m_0_pi+1e-5)\n",
    "temp_bounds_bg = (0, 1)\n",
    "beta_bounds_bg = (0, 1)\n",
    "n_0_bg_bounds_bg = (0, 2)\n",
    "R_0_bounds_bg = (1e-5, 1)\n",
    "norm_bg_bounds_bg = (0, 1e10)\n",
    "\n",
    "all_bounds_bg = ([mass_bounds_bg[0], temp_bounds_bg[0], beta_bounds_bg[0], R_0_bounds_bg[0], n_0_bg_bounds_bg[0], norm_bg_bounds_bg[0]],[mass_bounds_bg[1], temp_bounds_bg[1], beta_bounds_bg[1], R_0_bounds_bg[1], n_0_bg_bounds_bg[1], norm_bg_bounds_bg[1]])\n",
    "\n",
    "#parameter bounds for tsallis blast wave model\n",
    "Y_0_bounds_ts = (0.5,0.5+1e-5)\n",
    "mass_bounds_ts = (m_0_pi,m_0_pi+1e-5)\n",
    "q_0_bounds_ts = (1.001,2)\n",
    "temp_bounds_ts = (0.1,1)\n",
    "R_0_bounds_ts = (1e-5, 1)\n",
    "beta_bounds_ts = (0.00001, 1)\n",
    "n_0_ts_bounds_ts = (1, 1+1e-5)\n",
    "norm_ts_bounds_ts = (0, 1e10)\n",
    "\n",
    "all_bounds_ts =( [Y_0_bounds_ts[0], mass_bounds_ts[0], temp_bounds_ts[0], q_0_bounds_ts[0], R_0_bounds_ts[0], beta_bounds_ts[0], n_0_ts_bounds_ts[0], norm_ts_bounds_ts[0]], [Y_0_bounds_ts[1], mass_bounds_ts[1], temp_bounds_ts[1], q_0_bounds_ts[1], R_0_bounds_ts[1], beta_bounds_ts[1], n_0_ts_bounds_ts[1], norm_ts_bounds_ts[1]])\n",
    "\n",
    "print(f\"fitting the data to the boltzmann gibbs blast wave model\")\n",
    "#popt, pcov = curve_fit(boltzmann_gibbs_blast_wave, pT, nine, p0=[m_0, T_0, beta_s_0, R_0, n_0_bg, norm_bg], bounds=all_bounds_bg)\n",
    "\n",
    "# using least squares method\n",
    "res_lsq = least_squares(lambda x: boltzmann_gibbs_blast_wave(pT, *x) - nine, [m_0_pi, T_0, beta_s_0, R_0, n_0_bg, norm_bg], bounds=all_bounds_bg, verbose=2)\n",
    "popt = res_lsq.x\n",
    "\n",
    "print(f\"fitting the data to the tsallis blast wave model\")\n",
    "# popt2, pcov2 = curve_fit(tsallis_blast_wave, pT, nine, p0=[Y_0,  m_0, T_0, q_0, R_0, beta, n_0_ts, norm_ts],bounds=all_bounds_ts)\n",
    "\n",
    "# using least squares method\n",
    "iteration_limit = 15\n",
    "res_lsq = least_squares(lambda x: tsallis_blast_wave(pT, *x) - nine, [Y_0,  m_0_pi, T_0, q_0, R_0, beta, n_0_ts, norm_ts], bounds=all_bounds_ts, verbose=2, max_nfev=iteration_limit)\n",
    "popt2 = res_lsq.x"
   ]
  },
  {
   "cell_type": "code",
   "execution_count": 11,
   "metadata": {},
   "outputs": [
    {
     "name": "stdout",
     "output_type": "stream",
     "text": [
      "Getting the datapoints for the fits\n"
     ]
    },
    {
     "ename": "UFuncTypeError",
     "evalue": "ufunc 'subtract' did not contain a loop with signature matching types (dtype('float64'), dtype('<U32')) -> None",
     "output_type": "error",
     "traceback": [
      "\u001b[1;31m---------------------------------------------------------------------------\u001b[0m",
      "\u001b[1;31mUFuncTypeError\u001b[0m                            Traceback (most recent call last)",
      "Cell \u001b[1;32mIn[11], line 8\u001b[0m\n\u001b[0;32m      5\u001b[0m dN_dpT_ts \u001b[38;5;241m=\u001b[39m tsallis_blast_wave(pT, \u001b[38;5;241m*\u001b[39mpopt2)\n\u001b[0;32m      7\u001b[0m \u001b[38;5;66;03m# calculate the chi-squared values for the fits\u001b[39;00m\n\u001b[1;32m----> 8\u001b[0m chi2_bg \u001b[38;5;241m=\u001b[39m np\u001b[38;5;241m.\u001b[39msum(((\u001b[43mboltzmann_gibbs_blast_wave\u001b[49m\u001b[43m(\u001b[49m\u001b[43mpT\u001b[49m\u001b[43m,\u001b[49m\u001b[43m \u001b[49m\u001b[38;5;241;43m*\u001b[39;49m\u001b[43mpopt\u001b[49m\u001b[43m)\u001b[49m\u001b[43m \u001b[49m\u001b[38;5;241;43m-\u001b[39;49m\u001b[43m \u001b[49m\u001b[43mnine\u001b[49m)\u001b[38;5;241m*\u001b[39m\u001b[38;5;241m*\u001b[39m\u001b[38;5;241m2\u001b[39m) \u001b[38;5;241m/\u001b[39m nine)\n\u001b[0;32m      9\u001b[0m chi2_ts \u001b[38;5;241m=\u001b[39m np\u001b[38;5;241m.\u001b[39msum(((tsallis_blast_wave(pT, \u001b[38;5;241m*\u001b[39mpopt2) \u001b[38;5;241m-\u001b[39m nine)\u001b[38;5;241m*\u001b[39m\u001b[38;5;241m*\u001b[39m\u001b[38;5;241m2\u001b[39m) \u001b[38;5;241m/\u001b[39m nine)\n\u001b[0;32m     12\u001b[0m \u001b[38;5;28mprint\u001b[39m(\u001b[38;5;124mf\u001b[39m\u001b[38;5;124m'\u001b[39m\u001b[38;5;124mChi-squared value for Boltzmann Gibbs Blast Wave fit: \u001b[39m\u001b[38;5;132;01m{\u001b[39;00mchi2_bg\u001b[38;5;132;01m}\u001b[39;00m\u001b[38;5;124m'\u001b[39m)\n",
      "\u001b[1;31mUFuncTypeError\u001b[0m: ufunc 'subtract' did not contain a loop with signature matching types (dtype('float64'), dtype('<U32')) -> None"
     ]
    }
   ],
   "source": [
    "### ---------- plotting the data and the fits ---------- ###\n",
    "\n",
    "print(f\"Getting the datapoints for the fits\")\n",
    "dN_dpT_bg = boltzmann_gibbs_blast_wave(pT, *popt)\n",
    "dN_dpT_ts = tsallis_blast_wave(pT, *popt2)\n",
    "\n",
    "# calculate the chi-squared values for the fits\n",
    "chi2_bg = np.sum(((boltzmann_gibbs_blast_wave(pT, *popt) - nine)**2) / nine)\n",
    "chi2_ts = np.sum(((tsallis_blast_wave(pT, *popt2) - nine)**2) / nine)\n",
    "\n",
    "\n",
    "print(f'Chi-squared value for Boltzmann Gibbs Blast Wave fit: {chi2_bg}')\n",
    "\n",
    "# plotter\n",
    "print(f\"Plotting the data and the fits\")\n",
    "plt.figure(figsize=(10, 6))\n",
    "plt.plot(pT, nine, 'o', label='original data')\n",
    "plt.plot(pT, dN_dpT_bg, '--', label=f'BGBW fit, chi2 = {chi2_bg}')\n",
    "plt.plot(pT, dN_dpT_ts, '--', label=f'TBW fit, chi2 = {chi2_ts}')\n",
    "plt.yscale('log')\n",
    "plt.legend()\n",
    "plt.xlabel('Transverse momentum (GeV)')\n",
    "plt.ylabel('dN/dpT')\n",
    "plt.title('Blast Wave Models')\n",
    "#plt.savefig('fits_goodresult2_Rchange.png')\n",
    "plt.show()\n"
   ]
  },
  {
   "cell_type": "code",
   "execution_count": 9,
   "metadata": {},
   "outputs": [
    {
     "ename": "ValueError",
     "evalue": "could not convert string to float: '-'",
     "output_type": "error",
     "traceback": [
      "\u001b[1;31m---------------------------------------------------------------------------\u001b[0m",
      "\u001b[1;31mValueError\u001b[0m                                Traceback (most recent call last)",
      "Cell \u001b[1;32mIn[9], line 12\u001b[0m\n\u001b[0;32m     10\u001b[0m \u001b[38;5;66;03m# changing dtype of pT to float\u001b[39;00m\n\u001b[0;32m     11\u001b[0m pT_k \u001b[38;5;241m=\u001b[39m pT_k\u001b[38;5;241m.\u001b[39mastype(\u001b[38;5;28mfloat\u001b[39m)\n\u001b[1;32m---> 12\u001b[0m nine \u001b[38;5;241m=\u001b[39m \u001b[43mnine\u001b[49m\u001b[38;5;241;43m.\u001b[39;49m\u001b[43mastype\u001b[49m\u001b[43m(\u001b[49m\u001b[38;5;28;43mfloat\u001b[39;49m\u001b[43m)\u001b[49m\n\u001b[0;32m     14\u001b[0m \u001b[38;5;28mprint\u001b[39m(pT_k\u001b[38;5;241m.\u001b[39mshape)\n\u001b[0;32m     15\u001b[0m \u001b[38;5;28mprint\u001b[39m(nine\u001b[38;5;241m.\u001b[39mshape)\n",
      "\u001b[1;31mValueError\u001b[0m: could not convert string to float: '-'"
     ]
    }
   ],
   "source": [
    "# Read the CSV file and extract data from the first column, skipping the first row\n",
    "data = pd.read_csv(\"D:/ACADEMICS/Coding/Comp Phy/term_paper/kaon_data.csv\", usecols=[0,1], skiprows=[0,1,2,3,4,5])\n",
    "#lim_length = 40\n",
    "# Convert the extracted data to a list\n",
    "data_list_k = data.values.tolist()\n",
    "data_list_k = np.array(data_list)\n",
    "pT_k = np.array(data_list_k)[:,0].flatten()\n",
    "nine = np.array(data_list_k)[:,1].flatten()\n",
    "\n",
    "# changing dtype of pT to float\n",
    "pT_k = pT_k.astype(float)\n",
    "nine = nine.astype(float)\n",
    "\n",
    "print(pT_k.shape)\n",
    "print(nine.shape)\n",
    "#print(pT)"
   ]
  }
 ],
 "metadata": {
  "kernelspec": {
   "display_name": "Python 3",
   "language": "python",
   "name": "python3"
  },
  "language_info": {
   "codemirror_mode": {
    "name": "ipython",
    "version": 3
   },
   "file_extension": ".py",
   "mimetype": "text/x-python",
   "name": "python",
   "nbconvert_exporter": "python",
   "pygments_lexer": "ipython3",
   "version": "3.11.0"
  }
 },
 "nbformat": 4,
 "nbformat_minor": 2
}
